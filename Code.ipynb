{
 "cells": [
  {
   "cell_type": "code",
   "execution_count": 13,
   "id": "0fba4ad5",
   "metadata": {},
   "outputs": [],
   "source": [
    "import random\n",
    "\n",
    "def distribute_liquid_amount(containers):\n",
    "    total_liquid = sum(containers)\n",
    "    num_containers = len(containers)\n",
    "\n",
    "    # Check if it's possible to evenly distribute the liquid\n",
    "    if total_liquid % num_containers != 0:\n",
    "        print(\"Even distribution is not possible.\")\n",
    "        return None\n",
    "\n",
    "    target_volume = total_liquid // num_containers\n",
    "    steps = 0\n",
    "\n",
    "    # Create a list of containers with their indices\n",
    "    indexed_containers = list(enumerate(containers))\n",
    "\n",
    "    while True:\n",
    "        # Identify containers to drain and to fill\n",
    "        to_drain = []\n",
    "        for i, volume in indexed_containers:\n",
    "            if volume > target_volume:\n",
    "                to_drain.append(i)\n",
    "        \n",
    "        to_fill = []\n",
    "        for i, volume in indexed_containers:\n",
    "            if volume < target_volume:\n",
    "                to_fill.append(i)\n",
    "\n",
    "\n",
    "        # Exit loop if all containers are balanced\n",
    "        if not to_drain and not to_fill:\n",
    "            break\n",
    "\n",
    "        # Transfer liquid\n",
    "        for i in to_drain:\n",
    "            for j in to_fill:\n",
    "                if indexed_containers[i][1] > target_volume and indexed_containers[j][1] < target_volume:\n",
    "                    transfer_volume = min(indexed_containers[i][1] - target_volume,\n",
    "                                          target_volume - indexed_containers[j][1])\n",
    "                    indexed_containers[i] = (indexed_containers[i][0], indexed_containers[i][1] - transfer_volume)\n",
    "                    indexed_containers[j] = (indexed_containers[j][0], indexed_containers[j][1] + transfer_volume)\n",
    "                    steps += 1  # Increment steps\n",
    "                    print(\n",
    "                        f\"Transferring {transfer_volume} ml from container {indexed_containers[i][0]} \"\n",
    "                        f\"to container {indexed_containers[j][0]}\")\n",
    "\n",
    "    print(f\"All containers now hold {target_volume} ml of liquid.\")\n",
    "    print(f\"Total operations performed: {steps}\")"
   ]
  },
  {
   "cell_type": "code",
   "execution_count": 19,
   "id": "a582e703-fa45-43af-8de3-f0759699ad63",
   "metadata": {},
   "outputs": [
    {
     "name": "stdout",
     "output_type": "stream",
     "text": [
      "Initial liquid volumes in containers: [72, 146, 160, 276, 56]\n",
      "Transferring 4 ml from container 1 to container 0\n",
      "Transferring 18 ml from container 2 to container 0\n",
      "Transferring 48 ml from container 3 to container 0\n",
      "Transferring 86 ml from container 3 to container 4\n",
      "All containers now hold 142 ml of liquid.\n",
      "Total operations performed: 4\n"
     ]
    }
   ],
   "source": [
    "# Generate random liquid volumes for containers\n",
    "random_containers = []\n",
    "for _ in range(5):\n",
    "    random_containers.append(random.randint(20, 300))\n",
    "print(f\"Initial liquid volumes in containers: {random_containers}\")\n",
    "distribute_liquid_amount(random_containers)"
   ]
  },
  {
   "cell_type": "code",
   "execution_count": null,
   "id": "73ab4a44-6051-4227-ae33-d87cb8fa90be",
   "metadata": {},
   "outputs": [],
   "source": []
  }
 ],
 "metadata": {
  "kernelspec": {
   "display_name": "Python 3 (ipykernel)",
   "language": "python",
   "name": "python3"
  },
  "language_info": {
   "codemirror_mode": {
    "name": "ipython",
    "version": 3
   },
   "file_extension": ".py",
   "mimetype": "text/x-python",
   "name": "python",
   "nbconvert_exporter": "python",
   "pygments_lexer": "ipython3",
   "version": "3.9.19"
  }
 },
 "nbformat": 4,
 "nbformat_minor": 5
}
